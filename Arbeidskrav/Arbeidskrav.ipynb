{
 "cells": [
  {
   "cell_type": "code",
   "execution_count": null,
   "id": "a75b1e4c-e4db-469e-be45-7fd973f00b3a",
   "metadata": {},
   "outputs": [
    {
     "ename": "",
     "evalue": "",
     "output_type": "error",
     "traceback": [
      "\u001b[1;31mRunning cells with 'Python 3.11.0 64-bit' requires ipykernel package.\n",
      "\u001b[1;31mRun the following command to install 'ipykernel' into the Python environment. \n",
      "\u001b[1;31mCommand: 'c:/Users/wowcu/AppData/Local/Programs/Python/Python311/python.exe -m pip install ipykernel -U --user --force-reinstall'"
     ]
    }
   ],
   "source": [
    "#laster inn pakker\n",
    "import sympy as sp \n",
    "import sympy.solvers as solve\n",
    "from sympy.simplify.simplify import nthroot\n"
   ]
  },
  {
   "cell_type": "code",
   "execution_count": 11,
   "id": "45f49e24-96e6-4440-a676-73f5e970a627",
   "metadata": {},
   "outputs": [
    {
     "data": {
      "text/plain": [
       "{x: -1, y: 2}"
      ]
     },
     "execution_count": 11,
     "metadata": {},
     "output_type": "execute_result"
    }
   ],
   "source": [
    "#Oppgave 15 1A\n",
    "x, y = sp.symbols(\"x y\")\n",
    "unknown = [x, y]\n",
    "eq_15_1 = [\n",
    "    sp.Eq(2*x+4*y,6),\n",
    "    sp.Eq(-2*x+y,4)\n",
    "]\n",
    "\n",
    "sp.solve(eq_15_1, unknown)"
   ]
  },
  {
   "cell_type": "code",
   "execution_count": 34,
   "id": "ae986250-ad86-45b6-9d5c-8a7dbb365669",
   "metadata": {},
   "outputs": [
    {
     "data": {
      "text/plain": [
       "[(-3, 5), (0, -1)]"
      ]
     },
     "execution_count": 34,
     "metadata": {},
     "output_type": "execute_result"
    }
   ],
   "source": [
    "#Oppgave 15 1B\n",
    "x, y = sp.symbols(\"x y\")\n",
    "unknown = [x, y]\n",
    "eq_15_2 = [\n",
    "    sp.Eq(2*x+y,-1),\n",
    "    sp.Eq(x**2+x-y, 1)\n",
    "]\n",
    "sp.solve(eq_15_2, unknown)\n"
   ]
  },
  {
   "cell_type": "code",
   "execution_count": 37,
   "id": "4989cf5e-f5c2-4d34-97bb-c29f7353f6c0",
   "metadata": {},
   "outputs": [
    {
     "data": {
      "text/plain": [
       "{x: 4, y: 0}"
      ]
     },
     "execution_count": 37,
     "metadata": {},
     "output_type": "execute_result"
    }
   ],
   "source": [
    "#Oppgave 15 2A\n",
    "x, y = sp.symbols(\"x y\")\n",
    "unkown = [x, y]\n",
    "eq_15_3 = [\n",
    "    sp.Eq(3*x-12,-6*y),\n",
    "    sp.Eq(4*x-8*y,16)\n",
    "]\n",
    "sp.solve(eq_15_3, unknown)"
   ]
  },
  {
   "cell_type": "code",
   "execution_count": 38,
   "id": "dad076fd-56b4-46fd-a7c9-f5709bdc8667",
   "metadata": {},
   "outputs": [
    {
     "data": {
      "text/plain": [
       "[(-15/2, 31/4), (2, 3)]"
      ]
     },
     "execution_count": 38,
     "metadata": {},
     "output_type": "execute_result"
    }
   ],
   "source": [
    "#Oppgave 15 2B\n",
    "x, y = sp.symbols(\"x y\")\n",
    "unknown = [x, y]\n",
    "eq_15_4 = [\n",
    "    sp.Eq(x**2+4*x-3, 3*y),\n",
    "    sp.Eq(2*y, 8-x)\n",
    "]\n",
    "sp.solve(eq_15_4, unknown)"
   ]
  },
  {
   "cell_type": "code",
   "execution_count": 40,
   "id": "01851719-bbf8-4175-8970-90099400979d",
   "metadata": {},
   "outputs": [
    {
     "data": {
      "text/plain": [
       "{x: 2, y: 2}"
      ]
     },
     "execution_count": 40,
     "metadata": {},
     "output_type": "execute_result"
    }
   ],
   "source": [
    "#Oppgave 16 1A\n",
    "x, y = sp.symbols(\"x y\")\n",
    "unknown = [x, y]\n",
    "eq_15_1 = [\n",
    "    sp.Eq(4*x+2*y, 12),\n",
    "    sp.Eq(6*x-2*x, 8)\n",
    "]\n",
    "sp.solve(eq_15_1, unknown)"
   ]
  },
  {
   "cell_type": "code",
   "execution_count": 41,
   "id": "1b015c05-bdf5-42e7-b684-6f3b4646440c",
   "metadata": {},
   "outputs": [
    {
     "data": {
      "text/plain": [
       "[(0, -5), (12, 1)]"
      ]
     },
     "execution_count": 41,
     "metadata": {},
     "output_type": "execute_result"
    }
   ],
   "source": [
    "#Oppgave 16 1B\n",
    "x, y = sp.symbols(\"x y\")\n",
    "unknown = [x, y]\n",
    "eq_15_2 = [\n",
    "    sp.Eq(2*x+y**2, 25),\n",
    "    sp.Eq(x-2*y, 10)\n",
    "]\n",
    "sp.solve(eq_15_2, unknown)\n",
    "    "
   ]
  },
  {
   "cell_type": "code",
   "execution_count": 42,
   "id": "27e77ea4-ae33-45c5-8e6b-8be4359585b0",
   "metadata": {},
   "outputs": [
    {
     "data": {
      "text/plain": [
       "{x: 4, y: 2}"
      ]
     },
     "execution_count": 42,
     "metadata": {},
     "output_type": "execute_result"
    }
   ],
   "source": [
    "#Oppgave 16 2A\n",
    "x, y = sp.symbols(\"x y\")\n",
    "unknown = [x, y]\n",
    "eq_15_3 = [\n",
    "    sp.Eq(4*x-4*y, 8),\n",
    "    sp.Eq(9*x-5*y,26)\n",
    "]\n",
    "sp.solve(eq_15_3, unknown)"
   ]
  },
  {
   "cell_type": "code",
   "execution_count": 43,
   "id": "a2bb9263-5dd7-4d7e-b137-aed298955ca8",
   "metadata": {},
   "outputs": [
    {
     "data": {
      "text/plain": [
       "[(-9, -2*sqrt(3)), (-9, 2*sqrt(3)), (7, -2), (7, 2)]"
      ]
     },
     "execution_count": 43,
     "metadata": {},
     "output_type": "execute_result"
    }
   ],
   "source": [
    "#Oppgave 16 2B\n",
    "x, y = sp.symbols(\"x y\")\n",
    "unknown = [x, y]\n",
    "eq_15_4 = [\n",
    "    sp.Eq(x+2*y**2,15),\n",
    "    sp.Eq(x**2-4*y**2,33)\n",
    "]\n",
    "sp.solve(eq_15_4, unknown)"
   ]
  },
  {
   "cell_type": "code",
   "execution_count": 44,
   "id": "5a3c25b5-3d15-4a36-ad7b-6a9802654f45",
   "metadata": {},
   "outputs": [
    {
     "data": {
      "text/plain": [
       "[(0, -4), (0, 4), (15, -1), (15, 1)]"
      ]
     },
     "execution_count": 44,
     "metadata": {},
     "output_type": "execute_result"
    }
   ],
   "source": [
    "#Oppgave 17 1A\n",
    "x, y = sp.symbols(\"x y\")\n",
    "unknown = [x, y]\n",
    "eq_17_1 = [\n",
    "    sp.Eq(x*y**2-x,0),\n",
    "    sp.Eq(x+y**2,16)\n",
    "]\n",
    "sp.solve(eq_17_1, unknown)"
   ]
  },
  {
   "cell_type": "code",
   "execution_count": 46,
   "id": "90d97331-098b-4627-8a85-2e3884901aba",
   "metadata": {},
   "outputs": [
    {
     "data": {
      "text/plain": [
       "[(-10, 0), (-6, -8), (-6, 8), (6, -8), (6, 8), (10, 0)]"
      ]
     },
     "execution_count": 46,
     "metadata": {},
     "output_type": "execute_result"
    }
   ],
   "source": [
    "#Oppgave 17 1B\n",
    "x, y = sp.symbols(\"x y\")\n",
    "unknown = [x, y]\n",
    "eq_17_2 = [\n",
    "    sp.Eq(x**2+y**2,100),\n",
    "    sp.Eq(x**2*y-36*y,0)\n",
    "]\n",
    "sp.solve(eq_17_2, unknown)"
   ]
  },
  {
   "cell_type": "code",
   "execution_count": 47,
   "id": "38552f7a-d955-43f2-99f6-4be9549e104a",
   "metadata": {},
   "outputs": [
    {
     "data": {
      "text/plain": [
       "[(-3, -7), (-3, 7), (0, -sqrt(58)), (0, sqrt(58)), (3, -7), (3, 7)]"
      ]
     },
     "execution_count": 47,
     "metadata": {},
     "output_type": "execute_result"
    }
   ],
   "source": [
    "#Oppgave 17 2A\n",
    "x, y = sp.symbols(\"x y\")\n",
    "unknown = [x, y]\n",
    "eq_17_3 = [\n",
    "    sp.Eq(x*y**2-49*x,0),\n",
    "    sp.Eq(x**2+y**2,58)\n",
    "]\n",
    "sp.solve(eq_17_3, unknown)\n",
    "           "
   ]
  },
  {
   "cell_type": "code",
   "execution_count": 48,
   "id": "48619987-0bb8-4cfd-b20d-9f66ba8413fe",
   "metadata": {},
   "outputs": [
    {
     "data": {
      "text/plain": [
       "[(-1.11803398874989, 0.0),\n",
       " (-0.500000000000000, -1.00000000000000),\n",
       " (-0.500000000000000, 1.00000000000000),\n",
       " (1.11803398874989, 0.0)]"
      ]
     },
     "execution_count": 48,
     "metadata": {},
     "output_type": "execute_result"
    }
   ],
   "source": [
    "#Oppgave 17 2B\n",
    "x, y = sp.symbols(\"x y\")\n",
    "unknown = [x, y]\n",
    "eq_17_4 = [\n",
    "    sp.Eq(x**2+y**2,5/4),\n",
    "    sp.Eq(2*x*y+y,0)\n",
    "]\n",
    "sp.solve(eq_17_4, unknown)"
   ]
  },
  {
   "cell_type": "code",
   "execution_count": 49,
   "id": "3b209b4b-9751-4a74-9955-26e3313b02bb",
   "metadata": {},
   "outputs": [
    {
     "data": {
      "text/latex": [
       "$\\displaystyle 5 x^{4}$"
      ],
      "text/plain": [
       "5*x**4"
      ]
     },
     "execution_count": 49,
     "metadata": {},
     "output_type": "execute_result"
    }
   ],
   "source": [
    "#Oppgave 19 1A\n",
    "sp.diff(x**5, x)\n"
   ]
  },
  {
   "cell_type": "code",
   "execution_count": 50,
   "id": "ac3899f5-c433-4d21-85b1-0894d659408b",
   "metadata": {},
   "outputs": [
    {
     "data": {
      "text/latex": [
       "$\\displaystyle 1$"
      ],
      "text/plain": [
       "1"
      ]
     },
     "execution_count": 50,
     "metadata": {},
     "output_type": "execute_result"
    }
   ],
   "source": [
    "#Oppgave 19 1B\n",
    "sp.diff(x+12, x)"
   ]
  },
  {
   "cell_type": "code",
   "execution_count": 51,
   "id": "1bb5be4f-a2ac-4113-9183-5b70e30d5d80",
   "metadata": {},
   "outputs": [
    {
     "data": {
      "text/latex": [
       "$\\displaystyle 3 x^{2} + 8 x$"
      ],
      "text/plain": [
       "3*x**2 + 8*x"
      ]
     },
     "execution_count": 51,
     "metadata": {},
     "output_type": "execute_result"
    }
   ],
   "source": [
    "#Oppgave 19 1C\n",
    "sp.diff(x**3+4*x**2, x)"
   ]
  },
  {
   "cell_type": "code",
   "execution_count": 52,
   "id": "76bf76b0-53c5-4338-ba00-a4cf1f8dbb99",
   "metadata": {},
   "outputs": [
    {
     "data": {
      "text/latex": [
       "$\\displaystyle 6 x^{2}$"
      ],
      "text/plain": [
       "6*x**2"
      ]
     },
     "execution_count": 52,
     "metadata": {},
     "output_type": "execute_result"
    }
   ],
   "source": [
    "#Oppgave 19 1d\n",
    "sp.diff(2*x**3+sp.sqrt(36), x)"
   ]
  },
  {
   "cell_type": "code",
   "execution_count": 53,
   "id": "8ec9d88b-3d1b-430d-8132-22708e1ca79c",
   "metadata": {},
   "outputs": [
    {
     "data": {
      "text/latex": [
       "$\\displaystyle \\frac{1}{2 \\sqrt{x}}$"
      ],
      "text/plain": [
       "1/(2*sqrt(x))"
      ]
     },
     "execution_count": 53,
     "metadata": {},
     "output_type": "execute_result"
    }
   ],
   "source": [
    "#Oppgave 19 1e\n",
    "sp.diff(sp.sqrt(x)+5**2, x)"
   ]
  },
  {
   "cell_type": "code",
   "execution_count": 54,
   "id": "6445bc34-ac51-4af2-8828-572e88d4fd14",
   "metadata": {},
   "outputs": [
    {
     "data": {
      "text/latex": [
       "$\\displaystyle 3 x^{2} - \\frac{1}{x^{2}}$"
      ],
      "text/plain": [
       "3*x**2 - 1/x**2"
      ]
     },
     "execution_count": 54,
     "metadata": {},
     "output_type": "execute_result"
    }
   ],
   "source": [
    "#Oppgave 19 1f\n",
    "sp.diff(x**3+1/x, x)"
   ]
  },
  {
   "cell_type": "code",
   "execution_count": 55,
   "id": "e30beac5-aae4-4f4f-8b4b-76b5983bd563",
   "metadata": {},
   "outputs": [
    {
     "data": {
      "text/latex": [
       "$\\displaystyle 3 x^{2} - 2 x + 0.25$"
      ],
      "text/plain": [
       "3*x**2 - 2*x + 0.25"
      ]
     },
     "execution_count": 55,
     "metadata": {},
     "output_type": "execute_result"
    }
   ],
   "source": [
    "#Oppgave 19 1g\n",
    "sp.diff(x**3-x**2+1/4*x, x)"
   ]
  },
  {
   "cell_type": "code",
   "execution_count": 56,
   "id": "a05aafa4-e49e-4177-b88d-36ce6678d458",
   "metadata": {},
   "outputs": [
    {
     "data": {
      "text/latex": [
       "$\\displaystyle 36 x^{5} - \\frac{1}{x^{2}}$"
      ],
      "text/plain": [
       "36*x**5 - 1/x**2"
      ]
     },
     "execution_count": 56,
     "metadata": {},
     "output_type": "execute_result"
    }
   ],
   "source": [
    "#Oppgave 19 2A\n",
    "sp.diff(1/x+6*x**6, x)\n"
   ]
  },
  {
   "cell_type": "code",
   "execution_count": 12,
   "id": "2a1dce7e-e0a3-4ce4-9dab-cc2abb7a1a48",
   "metadata": {},
   "outputs": [
    {
     "data": {
      "text/latex": [
       "$\\displaystyle 1.5 x^{2} + 1$"
      ],
      "text/plain": [
       "1.5*x**2 + 1"
      ]
     },
     "execution_count": 12,
     "metadata": {},
     "output_type": "execute_result"
    }
   ],
   "source": [
    "#Oppgave 19 2B\n",
    "sp.diff(x+1/2*x**3, x)"
   ]
  },
  {
   "cell_type": "code",
   "execution_count": 13,
   "id": "709207ac-ef45-4926-b877-089fae9e1b21",
   "metadata": {},
   "outputs": [
    {
     "data": {
      "text/latex": [
       "$\\displaystyle x^{2} + x \\left(2 x + 2\\right) + 2 x - 3$"
      ],
      "text/plain": [
       "x**2 + x*(2*x + 2) + 2*x - 3"
      ]
     },
     "execution_count": 13,
     "metadata": {},
     "output_type": "execute_result"
    }
   ],
   "source": [
    "#Oppgave 19 2C\n",
    "sp.diff(x*(x**2+2*x-3), x)"
   ]
  },
  {
   "cell_type": "code",
   "execution_count": 26,
   "id": "36ad361c-af67-4fca-ad71-333bd2924384",
   "metadata": {},
   "outputs": [
    {
     "data": {
      "text/latex": [
       "$\\displaystyle 9 x^{8}$"
      ],
      "text/plain": [
       "9*x**8"
      ]
     },
     "execution_count": 26,
     "metadata": {},
     "output_type": "execute_result"
    }
   ],
   "source": [
    "#Oppgave 20 1E\n",
    "sp.diff(x**4*x**5, x)"
   ]
  },
  {
   "cell_type": "code",
   "execution_count": 15,
   "id": "00dbe838-616a-4cd3-acbd-af0d67d75db7",
   "metadata": {},
   "outputs": [
    {
     "data": {
      "text/latex": [
       "$\\displaystyle \\frac{3 \\sqrt{x}}{2}$"
      ],
      "text/plain": [
       "3*sqrt(x)/2"
      ]
     },
     "execution_count": 15,
     "metadata": {},
     "output_type": "execute_result"
    }
   ],
   "source": [
    "#Oppgave 20 1F\n",
    "sp.diff(x*sp.sqrt(x), x)"
   ]
  },
  {
   "cell_type": "code",
   "execution_count": 25,
   "id": "8ed42863-51f8-46ce-b12c-23b6bc5210bd",
   "metadata": {},
   "outputs": [
    {
     "data": {
      "text/latex": [
       "$\\displaystyle - \\frac{6}{x^{4}}$"
      ],
      "text/plain": [
       "-6/x**4"
      ]
     },
     "execution_count": 25,
     "metadata": {},
     "output_type": "execute_result"
    }
   ],
   "source": [
    "#Oppgave 20 1G\n",
    "sp.diff(2/(x**3), x)"
   ]
  },
  {
   "cell_type": "code",
   "execution_count": 17,
   "id": "855fa5d3-f199-46ab-8908-2db1e734f726",
   "metadata": {},
   "outputs": [
    {
     "data": {
      "text/latex": [
       "$\\displaystyle 2 x + \\frac{6}{x^{4}}$"
      ],
      "text/plain": [
       "2*x + 6/x**4"
      ]
     },
     "execution_count": 17,
     "metadata": {},
     "output_type": "execute_result"
    }
   ],
   "source": [
    "#Oppgave 20 1H\n",
    "sp.diff(x**2-2/x**3, x)"
   ]
  },
  {
   "cell_type": "code",
   "execution_count": 18,
   "id": "205af167-ec93-40d9-936b-07bb809ba8ee",
   "metadata": {},
   "outputs": [
    {
     "data": {
      "text/latex": [
       "$\\displaystyle \\frac{13 x^{\\frac{11}{2}}}{2}$"
      ],
      "text/plain": [
       "13*x**(11/2)/2"
      ]
     },
     "execution_count": 18,
     "metadata": {},
     "output_type": "execute_result"
    }
   ],
   "source": [
    "#Oppgave 20 1I\n",
    "sp.diff(sp.sqrt(x)*x**6, x)"
   ]
  },
  {
   "cell_type": "code",
   "execution_count": 19,
   "id": "6278c98c-490b-487e-a797-a04bd5b98a58",
   "metadata": {},
   "outputs": [
    {
     "data": {
      "text/latex": [
       "$\\displaystyle 3 x^{2} + 1$"
      ],
      "text/plain": [
       "3*x**2 + 1"
      ]
     },
     "execution_count": 19,
     "metadata": {},
     "output_type": "execute_result"
    }
   ],
   "source": [
    "#Oppgave 20 1J\n",
    "sp.diff(x*(x**2+1), x)"
   ]
  },
  {
   "cell_type": "code",
   "execution_count": 20,
   "id": "0558b5e9-e3e9-47e7-b2a4-ccb01068b40e",
   "metadata": {},
   "outputs": [
    {
     "data": {
      "text/latex": [
       "$\\displaystyle 2 x - \\frac{12}{x^{4}}$"
      ],
      "text/plain": [
       "2*x - 12/x**4"
      ]
     },
     "execution_count": 20,
     "metadata": {},
     "output_type": "execute_result"
    }
   ],
   "source": [
    "#Oppgave 20 1K\n",
    "sp.diff(x**2+4/x**3-1, x)"
   ]
  },
  {
   "cell_type": "code",
   "execution_count": 21,
   "id": "6a7ee38b-bf73-42f9-afda-227f2784a2db",
   "metadata": {},
   "outputs": [
    {
     "data": {
      "text/latex": [
       "$\\displaystyle 2$"
      ],
      "text/plain": [
       "2"
      ]
     },
     "execution_count": 21,
     "metadata": {},
     "output_type": "execute_result"
    }
   ],
   "source": [
    "#Oppgave 20 1L\n",
    "sp.diff(x**2/x**2+2*x, x)"
   ]
  },
  {
   "cell_type": "code",
   "execution_count": 22,
   "id": "a26524ad-6802-43b9-b25a-42ea831dd299",
   "metadata": {},
   "outputs": [
    {
     "data": {
      "text/latex": [
       "$\\displaystyle 2 x + 4 - \\frac{2}{x^{2}}$"
      ],
      "text/plain": [
       "2*x + 4 - 2/x**2"
      ]
     },
     "execution_count": 22,
     "metadata": {},
     "output_type": "execute_result"
    }
   ],
   "source": [
    "#Oppgave 20 1M\n",
    "sp.diff(x**2+4*x+2/x-2, x)"
   ]
  },
  {
   "cell_type": "code",
   "execution_count": 27,
   "id": "282bb6cd-bf6a-4947-a2b8-6e53356c304a",
   "metadata": {},
   "outputs": [
    {
     "data": {
      "text/latex": [
       "$\\displaystyle 3 x^{2} + \\frac{2}{x^{2}}$"
      ],
      "text/plain": [
       "3*x**2 + 2/x**2"
      ]
     },
     "execution_count": 27,
     "metadata": {},
     "output_type": "execute_result"
    }
   ],
   "source": [
    "#Oppgave 20 2A\n",
    "sp.diff(x**3-2*x/x**2-1, x)"
   ]
  },
  {
   "cell_type": "code",
   "execution_count": 29,
   "id": "6c9779a6-df00-4551-a439-91afabad1190",
   "metadata": {},
   "outputs": [
    {
     "data": {
      "text/latex": [
       "$\\displaystyle 2 x \\left(x^{2} - 1\\right) + 2 x \\left(x^{2} + 1\\right)$"
      ],
      "text/plain": [
       "2*x*(x**2 - 1) + 2*x*(x**2 + 1)"
      ]
     },
     "execution_count": 29,
     "metadata": {},
     "output_type": "execute_result"
    }
   ],
   "source": [
    "#Oppgave 20 2B\n",
    "sp.diff((x**2+1)*(x**2-1), x)"
   ]
  },
  {
   "cell_type": "code",
   "execution_count": 30,
   "id": "437b9830-ae26-4d46-ab02-098e0178f747",
   "metadata": {},
   "outputs": [
    {
     "data": {
      "text/latex": [
       "$\\displaystyle 3 + \\frac{12}{x^{4}}$"
      ],
      "text/plain": [
       "3 + 12/x**4"
      ]
     },
     "execution_count": 30,
     "metadata": {},
     "output_type": "execute_result"
    }
   ],
   "source": [
    "#Oppgave 20 2C\n",
    "sp.diff(3*x-4/x**3+7, x)"
   ]
  },
  {
   "cell_type": "code",
   "execution_count": 31,
   "id": "7f8f8e9b-cbe4-4b44-9466-2f7398e02889",
   "metadata": {},
   "outputs": [
    {
     "data": {
      "text/latex": [
       "$\\displaystyle \\left(15 x^{2} + 30\\right) \\left(x^{3} + 6 x\\right)^{4}$"
      ],
      "text/plain": [
       "(15*x**2 + 30)*(x**3 + 6*x)**4"
      ]
     },
     "execution_count": 31,
     "metadata": {},
     "output_type": "execute_result"
    }
   ],
   "source": [
    "#Oppgave 21 1A\n",
    "sp.diff((x**3+6*x)**5, x)"
   ]
  },
  {
   "cell_type": "code",
   "execution_count": 34,
   "id": "12f78506-f71f-494c-9c87-fd58eeedbec5",
   "metadata": {},
   "outputs": [
    {
     "data": {
      "text/latex": [
       "$\\displaystyle \\frac{2 x}{\\sqrt{2 x^{2} + 6}}$"
      ],
      "text/plain": [
       "2*x/sqrt(2*x**2 + 6)"
      ]
     },
     "execution_count": 34,
     "metadata": {},
     "output_type": "execute_result"
    }
   ],
   "source": [
    "#Oppgave 21 1B\n",
    "sp.diff(sp.sqrt(2*x**2+6), x)"
   ]
  },
  {
   "cell_type": "code",
   "execution_count": 35,
   "id": "0ab0e4ed-0632-47d1-b5da-6277938381b5",
   "metadata": {},
   "outputs": [
    {
     "data": {
      "text/latex": [
       "$\\displaystyle - \\frac{8 \\left(3 + \\frac{2}{x}\\right)^{3}}{x^{2}}$"
      ],
      "text/plain": [
       "-8*(3 + 2/x)**3/x**2"
      ]
     },
     "execution_count": 35,
     "metadata": {},
     "output_type": "execute_result"
    }
   ],
   "source": [
    "#Oppgave 21 1C\n",
    "sp.diff((2*x/x**2+3)**4, x)"
   ]
  },
  {
   "cell_type": "code",
   "execution_count": 36,
   "id": "47de8c2c-1908-472c-8eb9-1db901ca18a9",
   "metadata": {},
   "outputs": [
    {
     "data": {
      "text/latex": [
       "$\\displaystyle 12 x^{3} \\left(2 x^{4} + 9\\right)^{2}$"
      ],
      "text/plain": [
       "12*x**3*(2*x**4 + 9)**2"
      ]
     },
     "execution_count": 36,
     "metadata": {},
     "output_type": "execute_result"
    }
   ],
   "source": [
    "#Oppgave 21 1D\n",
    "sp.diff((2*x**4+9)**3/2, x)"
   ]
  },
  {
   "cell_type": "code",
   "execution_count": 37,
   "id": "b1dbadb5-478a-4952-8601-0e34b27db3be",
   "metadata": {},
   "outputs": [
    {
     "data": {
      "text/latex": [
       "$\\displaystyle - \\frac{x}{\\left(x^{2} + 1\\right)^{\\frac{3}{2}}}$"
      ],
      "text/plain": [
       "-x/(x**2 + 1)**(3/2)"
      ]
     },
     "execution_count": 37,
     "metadata": {},
     "output_type": "execute_result"
    }
   ],
   "source": [
    "#Oppgave 21 1E\n",
    "sp.diff(1/sp.sqrt(1+x**2), x)"
   ]
  },
  {
   "cell_type": "code",
   "execution_count": 38,
   "id": "77558c2d-cf96-4296-ae7f-213bbe4dcdc6",
   "metadata": {},
   "outputs": [
    {
     "data": {
      "text/latex": [
       "$\\displaystyle x^{2} \\cdot \\left(6 x + 6\\right) \\left(x^{2} + 2 x\\right)^{2} + 2 x \\left(x^{2} + 2 x\\right)^{3}$"
      ],
      "text/plain": [
       "x**2*(6*x + 6)*(x**2 + 2*x)**2 + 2*x*(x**2 + 2*x)**3"
      ]
     },
     "execution_count": 38,
     "metadata": {},
     "output_type": "execute_result"
    }
   ],
   "source": [
    "#Oppgave 21 1F\n",
    "sp.diff(x**2*(x**2+2*x)**3, x)"
   ]
  },
  {
   "cell_type": "code",
   "execution_count": 39,
   "id": "a6171114-a6c0-4258-a048-af2f279287a2",
   "metadata": {},
   "outputs": [
    {
     "data": {
      "text/latex": [
       "$\\displaystyle \\frac{x^{2} \\left(x - 1\\right)}{\\sqrt{x^{2} - 2 x}} + 2 x \\sqrt{x^{2} - 2 x}$"
      ],
      "text/plain": [
       "x**2*(x - 1)/sqrt(x**2 - 2*x) + 2*x*sqrt(x**2 - 2*x)"
      ]
     },
     "execution_count": 39,
     "metadata": {},
     "output_type": "execute_result"
    }
   ],
   "source": [
    "#Oppgave 21 1G\n",
    "sp.diff(x**2*sp.sqrt(x**2-2*x), x)"
   ]
  },
  {
   "cell_type": "code",
   "execution_count": 40,
   "id": "99312fe2-dad9-4f03-b9ba-deed5a748774",
   "metadata": {},
   "outputs": [
    {
     "data": {
      "text/latex": [
       "$\\displaystyle \\frac{x^{2} \\left(- 6 x - 3\\right)}{\\left(x^{2} + x\\right)^{4}} + \\frac{2 x}{\\left(x^{2} + x\\right)^{3}}$"
      ],
      "text/plain": [
       "x**2*(-6*x - 3)/(x**2 + x)**4 + 2*x/(x**2 + x)**3"
      ]
     },
     "execution_count": 40,
     "metadata": {},
     "output_type": "execute_result"
    }
   ],
   "source": [
    "#Oppgave 21 1H\n",
    "sp.diff(x**2/(x**2+x)**3, x)"
   ]
  },
  {
   "cell_type": "code",
   "execution_count": 41,
   "id": "9a5265bb-f7d9-4e19-88e0-8a13944b2148",
   "metadata": {},
   "outputs": [
    {
     "data": {
      "text/latex": [
       "$\\displaystyle 9 x^{2} \\left(x^{2} + 1\\right)^{2} \\left(x^{3} + 1\\right)^{2} + 4 x \\left(x^{2} + 1\\right) \\left(x^{3} + 1\\right)^{3}$"
      ],
      "text/plain": [
       "9*x**2*(x**2 + 1)**2*(x**3 + 1)**2 + 4*x*(x**2 + 1)*(x**3 + 1)**3"
      ]
     },
     "execution_count": 41,
     "metadata": {},
     "output_type": "execute_result"
    }
   ],
   "source": [
    "#Oppgave 21 1I\n",
    "sp.diff((x**2+1)**2*(x**3+1)**3, x)"
   ]
  },
  {
   "cell_type": "code",
   "execution_count": 42,
   "id": "62b3d73c-62ae-4885-b747-4d806a838c1e",
   "metadata": {},
   "outputs": [
    {
     "data": {
      "text/latex": [
       "$\\displaystyle \\frac{\\left(24 x + 8\\right) \\sqrt{\\left(3 x^{2} + 2 x\\right)^{4}}}{2 \\cdot \\left(3 x^{2} + 2 x\\right)}$"
      ],
      "text/plain": [
       "(24*x + 8)*sqrt((3*x**2 + 2*x)**4)/(2*(3*x**2 + 2*x))"
      ]
     },
     "execution_count": 42,
     "metadata": {},
     "output_type": "execute_result"
    }
   ],
   "source": [
    "#Oppgave 21 2A\n",
    "sp.diff(sp.sqrt((3*x**2+2*x)**4), x)"
   ]
  },
  {
   "cell_type": "code",
   "execution_count": 43,
   "id": "cca0d5ea-7311-4b7a-9c27-0b0787455fb0",
   "metadata": {},
   "outputs": [
    {
     "data": {
      "text/latex": [
       "$\\displaystyle 15 x^{2} \\left(x^{2} + 3\\right)^{4} \\left(x^{3} + 3\\right)^{4} + 8 x \\left(x^{2} + 3\\right)^{3} \\left(x^{3} + 3\\right)^{5}$"
      ],
      "text/plain": [
       "15*x**2*(x**2 + 3)**4*(x**3 + 3)**4 + 8*x*(x**2 + 3)**3*(x**3 + 3)**5"
      ]
     },
     "execution_count": 43,
     "metadata": {},
     "output_type": "execute_result"
    }
   ],
   "source": [
    "#Oppgave 21 2B\n",
    "sp.diff((x**3+3)**5*(x**2+3)**4, x)"
   ]
  },
  {
   "cell_type": "code",
   "execution_count": 44,
   "id": "86ab979a-86f5-4797-a246-2e7140a2045a",
   "metadata": {},
   "outputs": [
    {
     "data": {
      "text/latex": [
       "$\\displaystyle \\frac{\\sqrt{2} \\sqrt{x^{2}}}{x}$"
      ],
      "text/plain": [
       "sqrt(2)*sqrt(x**2)/x"
      ]
     },
     "execution_count": 44,
     "metadata": {},
     "output_type": "execute_result"
    }
   ],
   "source": [
    "#Oppgave 21 2C\n",
    "sp.diff(sp.sqrt(x**2+1*x**2), x)"
   ]
  },
  {
   "cell_type": "code",
   "execution_count": 45,
   "id": "544baf9c-9e5e-4028-aed6-033eb68b1144",
   "metadata": {},
   "outputs": [
    {
     "data": {
      "text/latex": [
       "$\\displaystyle \\frac{\\left(18 x + 6\\right) \\left(3 x^{2} + 2 x\\right)^{2}}{x^{2}} - \\frac{2 \\left(3 x^{2} + 2 x\\right)^{3}}{x^{3}}$"
      ],
      "text/plain": [
       "(18*x + 6)*(3*x**2 + 2*x)**2/x**2 - 2*(3*x**2 + 2*x)**3/x**3"
      ]
     },
     "execution_count": 45,
     "metadata": {},
     "output_type": "execute_result"
    }
   ],
   "source": [
    "#Oppgave 21 2D\n",
    "sp.diff((2*x+3*x**2)**3/x**2, x)"
   ]
  },
  {
   "cell_type": "code",
   "execution_count": 47,
   "id": "20e97f8c-44c5-41cd-9281-fd8b3e4fa258",
   "metadata": {},
   "outputs": [
    {
     "data": {
      "text/latex": [
       "$\\displaystyle \\frac{4 x^{3}}{3 \\left(x^{4} - 5\\right)^{\\frac{2}{3}}}$"
      ],
      "text/plain": [
       "4*x**3/(3*(x**4 - 5)**(2/3))"
      ]
     },
     "execution_count": 47,
     "metadata": {},
     "output_type": "execute_result"
    }
   ],
   "source": [
    "#Oppgave 21 2E\n",
    "sp.diff(nthroot(x**4-5, 3), x)"
   ]
  },
  {
   "cell_type": "code",
   "execution_count": 48,
   "id": "c6f0a342-75b9-46ea-bfef-d653ed10e75b",
   "metadata": {},
   "outputs": [
    {
     "data": {
      "text/latex": [
       "$\\displaystyle - \\frac{2 x^{6}}{\\left(x^{4} - 1\\right)^{\\frac{3}{2}}} + \\frac{3 x^{2}}{\\sqrt{x^{4} - 1}}$"
      ],
      "text/plain": [
       "-2*x**6/(x**4 - 1)**(3/2) + 3*x**2/sqrt(x**4 - 1)"
      ]
     },
     "execution_count": 48,
     "metadata": {},
     "output_type": "execute_result"
    }
   ],
   "source": [
    "#Oppgave 21 2F\n",
    "sp.diff(x**3/sp.sqrt(x**4-1), x)"
   ]
  },
  {
   "cell_type": "code",
   "execution_count": 54,
   "id": "4033a86e-a6d4-403e-ae94-7910f37a1319",
   "metadata": {},
   "outputs": [
    {
     "data": {
      "text/latex": [
       "$\\displaystyle \\frac{1}{x}$"
      ],
      "text/plain": [
       "1/x"
      ]
     },
     "execution_count": 54,
     "metadata": {},
     "output_type": "execute_result"
    }
   ],
   "source": [
    "#Oppgave 22 1A\n",
    "sp.diff(sp.log(5*x), x)"
   ]
  },
  {
   "cell_type": "code",
   "execution_count": 57,
   "id": "c4c1ed40-8629-4436-8cf0-a57a5e63171f",
   "metadata": {},
   "outputs": [
    {
     "data": {
      "text/latex": [
       "$\\displaystyle - 2 e^{- 2 x}$"
      ],
      "text/plain": [
       "-2*exp(-2*x)"
      ]
     },
     "execution_count": 57,
     "metadata": {},
     "output_type": "execute_result"
    }
   ],
   "source": [
    "#Oppgave 22 1B\n",
    "sp.diff(sp.exp(-2*x), x)"
   ]
  },
  {
   "cell_type": "code",
   "execution_count": 58,
   "id": "63dd83fe-78b1-4082-a3a6-8bbae8f63954",
   "metadata": {},
   "outputs": [
    {
     "data": {
      "text/latex": [
       "$\\displaystyle \\frac{1}{x}$"
      ],
      "text/plain": [
       "1/x"
      ]
     },
     "execution_count": 58,
     "metadata": {},
     "output_type": "execute_result"
    }
   ],
   "source": [
    "#Oppgave 22 1C\n",
    "sp.diff(sp.log(12*x)-3, x)"
   ]
  },
  {
   "cell_type": "code",
   "execution_count": 60,
   "id": "f4271a44-c1f6-49e6-98d7-518770ed97aa",
   "metadata": {},
   "outputs": [
    {
     "data": {
      "text/latex": [
       "$\\displaystyle 2^{x} \\log{\\left(2 \\right)}$"
      ],
      "text/plain": [
       "2**x*log(2)"
      ]
     },
     "execution_count": 60,
     "metadata": {},
     "output_type": "execute_result"
    }
   ],
   "source": [
    "#Oppgave 22 1D\n",
    "sp.diff(2**x, x)"
   ]
  },
  {
   "cell_type": "code",
   "execution_count": 61,
   "id": "9674aeff-b1a0-4d04-95c4-822e6667b094",
   "metadata": {},
   "outputs": [
    {
     "data": {
      "text/latex": [
       "$\\displaystyle 3 e^{3 x + 5}$"
      ],
      "text/plain": [
       "3*exp(3*x + 5)"
      ]
     },
     "execution_count": 61,
     "metadata": {},
     "output_type": "execute_result"
    }
   ],
   "source": [
    "#Oppgave 22 1E\n",
    "sp.diff(sp.exp(3*x+5), x)"
   ]
  },
  {
   "cell_type": "code",
   "execution_count": 62,
   "id": "1fbf2d20-6035-4179-8220-15f643bd175a",
   "metadata": {},
   "outputs": [
    {
     "data": {
      "text/latex": [
       "$\\displaystyle \\frac{5 x^{4}}{x^{5} + 1}$"
      ],
      "text/plain": [
       "5*x**4/(x**5 + 1)"
      ]
     },
     "execution_count": 62,
     "metadata": {},
     "output_type": "execute_result"
    }
   ],
   "source": [
    "#Oppgave 22 1F\n",
    "sp.diff(sp.log(x**5+1), x)"
   ]
  },
  {
   "cell_type": "code",
   "execution_count": 63,
   "id": "30261e26-4905-4826-9319-8f37591f3b84",
   "metadata": {},
   "outputs": [
    {
     "data": {
      "text/latex": [
       "$\\displaystyle \\left(8 x + 8\\right) e^{4 x^{2} + 8 x}$"
      ],
      "text/plain": [
       "(8*x + 8)*exp(4*x**2 + 8*x)"
      ]
     },
     "execution_count": 63,
     "metadata": {},
     "output_type": "execute_result"
    }
   ],
   "source": [
    "#Oppgave 22 1G\n",
    "sp.diff(sp.exp(4*x**2+8*x), x)"
   ]
  },
  {
   "cell_type": "code",
   "execution_count": 64,
   "id": "a70d85a8-c08c-42b4-b445-d024a3c82c41",
   "metadata": {},
   "outputs": [
    {
     "data": {
      "text/latex": [
       "$\\displaystyle - \\frac{1}{x}$"
      ],
      "text/plain": [
       "-1/x"
      ]
     },
     "execution_count": 64,
     "metadata": {},
     "output_type": "execute_result"
    }
   ],
   "source": [
    "#Oppgave 22 1H\n",
    "sp.diff(sp.log(1/x), x)"
   ]
  },
  {
   "cell_type": "code",
   "execution_count": 66,
   "id": "10962e7a-a5b3-43c0-8a29-b1c69ac3ee93",
   "metadata": {},
   "outputs": [
    {
     "data": {
      "text/latex": [
       "$\\displaystyle \\frac{6 \\cdot \\left(12 e^{4 x} + 1\\right)}{x + 3 e^{4 x}}$"
      ],
      "text/plain": [
       "6*(12*exp(4*x) + 1)/(x + 3*exp(4*x))"
      ]
     },
     "execution_count": 66,
     "metadata": {},
     "output_type": "execute_result"
    }
   ],
   "source": [
    "#Oppgave 22 1I\n",
    "sp.diff(6*sp.log(x+3*sp.exp(4*x)), x)"
   ]
  },
  {
   "cell_type": "code",
   "execution_count": 67,
   "id": "b0e3034e-f7d0-4b74-a669-f9045218ba3b",
   "metadata": {},
   "outputs": [
    {
     "data": {
      "text/latex": [
       "$\\displaystyle - x e^{- x} + e^{- x}$"
      ],
      "text/plain": [
       "-x*exp(-x) + exp(-x)"
      ]
     },
     "execution_count": 67,
     "metadata": {},
     "output_type": "execute_result"
    }
   ],
   "source": [
    "#Oppgave 22 1J\n",
    "sp.diff(x*sp.exp(-x), x)"
   ]
  },
  {
   "cell_type": "code",
   "execution_count": 68,
   "id": "547fb334-f49b-452c-a7f8-1720a4c66d13",
   "metadata": {},
   "outputs": [
    {
     "data": {
      "text/latex": [
       "$\\displaystyle \\frac{2 x^{3}}{x^{2} + 2} + 2 x \\log{\\left(x^{2} + 2 \\right)}$"
      ],
      "text/plain": [
       "2*x**3/(x**2 + 2) + 2*x*log(x**2 + 2)"
      ]
     },
     "execution_count": 68,
     "metadata": {},
     "output_type": "execute_result"
    }
   ],
   "source": [
    "#Oppgave 22 1K\n",
    "sp.diff(x**2*sp.log(x**2+2), x)"
   ]
  },
  {
   "cell_type": "code",
   "execution_count": null,
   "id": "d93b45cc-0c96-4b1e-b709-bfd131330217",
   "metadata": {},
   "outputs": [
    {
     "ename": "",
     "evalue": "",
     "output_type": "error",
     "traceback": [
      "\u001b[1;31mRunning cells with 'Python 3.11.0 64-bit' requires ipykernel package.\n",
      "\u001b[1;31mRun the following command to install 'ipykernel' into the Python environment. \n",
      "\u001b[1;31mCommand: 'c:/Users/wowcu/AppData/Local/Programs/Python/Python311/python.exe -m pip install ipykernel -U --user --force-reinstall'"
     ]
    }
   ],
   "source": [
    "#Oppgave 22 2A\n",
    "sp.diff(x**3*sp.exp(2*x), x)"
   ]
  },
  {
   "cell_type": "code",
   "execution_count": 71,
   "id": "ac591ba2-e175-41d6-b4e5-6d5c24e76d8e",
   "metadata": {},
   "outputs": [
    {
     "data": {
      "text/latex": [
       "$\\displaystyle \\frac{2 x + \\frac{2}{x^{3}}}{x^{2} + 1 - \\frac{1}{x^{2}}}$"
      ],
      "text/plain": [
       "(2*x + 2/x**3)/(x**2 + 1 - 1/x**2)"
      ]
     },
     "execution_count": 71,
     "metadata": {},
     "output_type": "execute_result"
    }
   ],
   "source": [
    "#Oppgave 22 2B\n",
    "sp.diff(sp.log(x**2-1/x**2+1), x)"
   ]
  },
  {
   "cell_type": "code",
   "execution_count": 72,
   "id": "67edf646-83b2-493e-80b1-da19f4b91a71",
   "metadata": {},
   "outputs": [
    {
     "data": {
      "text/latex": [
       "$\\displaystyle \\frac{2 x^{3}}{x^{2} + 2} + 2 x \\log{\\left(x^{2} + 2 \\right)}$"
      ],
      "text/plain": [
       "2*x**3/(x**2 + 2) + 2*x*log(x**2 + 2)"
      ]
     },
     "execution_count": 72,
     "metadata": {},
     "output_type": "execute_result"
    }
   ],
   "source": [
    "#Oppgave 22 2C\n",
    "sp.diff(x**2*sp.log(x**2+2), x)"
   ]
  },
  {
   "cell_type": "code",
   "execution_count": 73,
   "id": "e2bc20ea-5918-4a60-b12d-3af28778b1ca",
   "metadata": {},
   "outputs": [
    {
     "data": {
      "text/latex": [
       "$\\displaystyle - \\frac{e^{- x}}{x^{2}} - \\frac{2 e^{- x}}{x^{3}}$"
      ],
      "text/plain": [
       "-exp(-x)/x**2 - 2*exp(-x)/x**3"
      ]
     },
     "execution_count": 73,
     "metadata": {},
     "output_type": "execute_result"
    }
   ],
   "source": [
    "#Oppgave 22 2D\n",
    "sp.diff(sp.exp(-x)/x**2+1, x)"
   ]
  }
 ],
 "metadata": {
  "kernelspec": {
   "display_name": "Python 3.11.0 64-bit",
   "language": "python",
   "name": "python3"
  },
  "language_info": {
   "codemirror_mode": {
    "name": "ipython",
    "version": 3
   },
   "file_extension": ".py",
   "mimetype": "text/x-python",
   "name": "python",
   "nbconvert_exporter": "python",
   "pygments_lexer": "ipython3",
   "version": "3.11.0"
  },
  "vscode": {
   "interpreter": {
    "hash": "cc039454962c9468675fe3a25b83c18f6c9c2992287be34dc890f3912ce6d5b5"
   }
  }
 },
 "nbformat": 4,
 "nbformat_minor": 5
}
